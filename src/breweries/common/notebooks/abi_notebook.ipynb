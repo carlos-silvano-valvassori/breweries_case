{
 "cells": [
  {
   "cell_type": "code",
   "execution_count": 1,
   "id": "22a89b05-76a9-4b76-810b-39822e28dc2e",
   "metadata": {
    "execution": {
     "iopub.execute_input": "2025-05-28T10:42:07.541117Z",
     "iopub.status.busy": "2025-05-28T10:42:07.540733Z",
     "iopub.status.idle": "2025-05-28T10:42:07.575997Z",
     "shell.execute_reply": "2025-05-28T10:42:07.575311Z",
     "shell.execute_reply.started": "2025-05-28T10:42:07.541088Z"
    },
    "tags": []
   },
   "outputs": [
    {
     "data": {
      "text/html": [
       "Current session configs: <tt>{'conf': {'spark.jars.packages': 'io.delta:delta-core_2.12:0.7.0,com.databricks:spark-xml_2.10:0.2.0', 'spark.sql.autoBroadcastJoinThreshold': '-1', 'spark.sql.extensions': 'io.delta.sql.DeltaSparkSessionExtension', 'spark.sql.catalog.spark_catalog': 'org.apache.spark.sql.delta.catalog.DeltaCatalog', 'spark.databricks.delta.retentionDurationCheck.enabled': 'False', 'spark.databricks.delta.vacuum.parallelDelete.enabled': 'True', 'spark.databricks.delta.schema.autoMerge.enabled': 'True', 'spark.sql.adaptive.enabled': 'True', 'spark.sql.legacy.parquet.datetimeRebaseModeInRead': 'LEGACY', 'spark.sql.legacy.parquet.datetimeRebaseModeInWrite': 'CORRECTED', 'spark.sql.parquet.int96RebaseModeInWrite': 'CORRECTED', 'spark.sql.parquet.int96RebaseModeInRead': 'CORRECTED', 'spark.executor.memory': '70g', 'spark.driver.memory': '50g', 'spark.memory.offHeap.enabled': 'true', 'spark.memory.offHeap.size': '16g', 'spark.sql.shuffle.partitions': '256'}, 'proxyUser': 'assumed-role_READONLY_carlos_valvassori_hp_com', 'kind': 'pyspark'}</tt><br>"
      ],
      "text/plain": [
       "<IPython.core.display.HTML object>"
      ]
     },
     "metadata": {},
     "output_type": "display_data"
    },
    {
     "data": {
      "text/html": [
       "<table>\n<tbody><tr><th>ID</th><th>YARN Application ID</th><th>Kind</th><th>State</th><th>Spark UI</th><th>Driver log</th><th>User</th><th>Current session?</th></tr><tr><td>0</td><td>application_1748427205490_0001</td><td>pyspark</td><td>idle</td><td><a target=\"_blank\" href=\"http://ip-10-0-101-213.us-west-2.compute.internal:20888/proxy/application_1748427205490_0001/\" class=\"emr-proxy-link j-15HHS0F11FZZI application_1748427205490_0001\" emr-resource=\"j-15HHS0F11FZZI\n\" application-id=\"application_1748427205490_0001\">Link</a></td><td><a target=\"_blank\" href=\"http://ip-10-0-101-44.us-west-2.compute.internal:8042/node/containerlogs/container_1748427205490_0001_01_000001/livy\">Link</a></td><td>None</td><td></td></tr></tbody></table>"
      ],
      "text/plain": [
       "<IPython.core.display.HTML object>"
      ]
     },
     "metadata": {},
     "output_type": "display_data"
    }
   ],
   "source": [
    "%%configure -f\n",
    "{ \"conf\":{    \n",
    "    \"spark.jars.packages\": \"io.delta:delta-core_2.12:0.7.0,com.databricks:spark-xml_2.10:0.2.0\",\n",
    "    \"spark.sql.autoBroadcastJoinThreshold\": \"-1\",\n",
    "    \"spark.sql.extensions\": \"io.delta.sql.DeltaSparkSessionExtension\",\n",
    "    \"spark.sql.catalog.spark_catalog\": \"org.apache.spark.sql.delta.catalog.DeltaCatalog\",\n",
    "    \"spark.databricks.delta.retentionDurationCheck.enabled\": \"False\",\n",
    "    \"spark.databricks.delta.vacuum.parallelDelete.enabled\": \"True\",\n",
    "    \"spark.databricks.delta.schema.autoMerge.enabled\": \"True\",\n",
    "    \"spark.sql.adaptive.enabled\":\"True\",\n",
    "    \"spark.sql.legacy.parquet.datetimeRebaseModeInRead\":\"LEGACY\",\n",
    "    \"spark.sql.legacy.parquet.datetimeRebaseModeInWrite\":\"CORRECTED\",\n",
    "    \"spark.sql.parquet.int96RebaseModeInWrite\":\"CORRECTED\",\n",
    "    \"spark.sql.parquet.int96RebaseModeInRead\": \"CORRECTED\",\n",
    "    \"spark.executor.memory\": \"70g\",\n",
    "    \"spark.driver.memory\": \"50g\",\n",
    "    \"spark.memory.offHeap.enabled\": \"true\",\n",
    "    \"spark.memory.offHeap.size\": \"16g\",\n",
    "    \"spark.sql.shuffle.partitions\":\"256\"\n",
    "    }\n",
    "}"
   ]
  },
  {
   "cell_type": "code",
   "execution_count": 16,
   "id": "65dae2fb-6c1f-4ea7-8388-eeebbdfd1bc8",
   "metadata": {
    "execution": {
     "iopub.execute_input": "2025-05-28T11:35:03.653774Z",
     "iopub.status.busy": "2025-05-28T11:35:03.653446Z",
     "iopub.status.idle": "2025-05-28T11:35:03.895171Z",
     "shell.execute_reply": "2025-05-28T11:35:03.894472Z",
     "shell.execute_reply.started": "2025-05-28T11:35:03.653749Z"
    },
    "tags": []
   },
   "outputs": [
    {
     "data": {
      "application/vnd.jupyter.widget-view+json": {
       "model_id": "39bd7a6cd4ce4f5faad73cd2becd78c6",
       "version_major": 2,
       "version_minor": 0
      },
      "text/plain": [
       "VBox()"
      ]
     },
     "metadata": {},
     "output_type": "display_data"
    },
    {
     "data": {
      "application/vnd.jupyter.widget-view+json": {
       "model_id": "",
       "version_major": 2,
       "version_minor": 0
      },
      "text/plain": [
       "FloatProgress(value=0.0, bar_style='info', description='Progress:', layout=Layout(height='25px', width='50%'),…"
      ]
     },
     "metadata": {},
     "output_type": "display_data"
    }
   ],
   "source": [
    "# THIS CURRENT 'EMR_WORKSPACE_ID' and 'WORKSPACE_LOCATION' are based on account used in AWS\n",
    "# So, these values must be updated based on account and role used for testing it\n",
    "\n",
    "# EMR_WORKSPACE_ID is the ID for the workspace you created. So, modify this value by getting this value in the following section:\n",
    "# EMR Studio: Workspaces (Notebooks) \"<YOUR WORKSPACE NAME CREATED>\":\n",
    "# In section \"Workspace details Info\"\n",
    "# Verify the id in \"Workspace ID\"\n",
    "EMR_WORKSPACE_ID = \"e-8NOXK1K4GBFTWHTB3NSR1YUZL\" # Change this value\n",
    "\n",
    "#The workspace location you can get from \"Workspace storage location\" section\n",
    "#\"Workspace storage location\" s3://aws-emr-resources-271380526857-us-west-2/notebooks/\n",
    "WORKSPACE_LOCATION = \"s3://aws-emr-resources-271380526857-us-west-2/notebooks\" # # Change this value\n",
    "\n",
    "sc.addPyFile(\n",
    "    f\"{WORKSPACE_LOCATION}/{EMR_WORKSPACE_ID}/breweries.zip\"\n",
    ")"
   ]
  },
  {
   "cell_type": "code",
   "execution_count": 3,
   "id": "0d7a6859-c68a-4f9e-8837-2c61d03db8f9",
   "metadata": {
    "execution": {
     "iopub.execute_input": "2025-05-28T10:42:45.870757Z",
     "iopub.status.busy": "2025-05-28T10:42:45.870539Z",
     "iopub.status.idle": "2025-05-28T10:42:46.113219Z",
     "shell.execute_reply": "2025-05-28T10:42:46.112593Z",
     "shell.execute_reply.started": "2025-05-28T10:42:45.870736Z"
    },
    "tags": []
   },
   "outputs": [
    {
     "data": {
      "application/vnd.jupyter.widget-view+json": {
       "model_id": "b34518bb06a748d8a82b36f206d22a23",
       "version_major": 2,
       "version_minor": 0
      },
      "text/plain": [
       "VBox()"
      ]
     },
     "metadata": {},
     "output_type": "display_data"
    },
    {
     "data": {
      "application/vnd.jupyter.widget-view+json": {
       "model_id": "",
       "version_major": 2,
       "version_minor": 0
      },
      "text/plain": [
       "FloatProgress(value=0.0, bar_style='info', description='Progress:', layout=Layout(height='25px', width='50%'),…"
      ]
     },
     "metadata": {},
     "output_type": "display_data"
    }
   ],
   "source": [
    "from breweries.services.bronze.BronzeService import BronzeService\n",
    "from breweries.services.silver.SilverService import SilverService\n",
    "from breweries.services.gold.GoldService import GoldService\n",
    "from breweries.common.medallion import Bronze, Silver, Gold"
   ]
  },
  {
   "cell_type": "code",
   "execution_count": 4,
   "id": "865957c1-19a0-41a5-b9eb-9c4b6896bb9c",
   "metadata": {
    "execution": {
     "iopub.execute_input": "2025-05-28T10:42:46.114722Z",
     "iopub.status.busy": "2025-05-28T10:42:46.114502Z",
     "iopub.status.idle": "2025-05-28T10:43:07.467704Z",
     "shell.execute_reply": "2025-05-28T10:43:07.466985Z",
     "shell.execute_reply.started": "2025-05-28T10:42:46.114700Z"
    },
    "tags": []
   },
   "outputs": [
    {
     "data": {
      "application/vnd.jupyter.widget-view+json": {
       "model_id": "e66e587bff4344fb8a4d8b5b17849d93",
       "version_major": 2,
       "version_minor": 0
      },
      "text/plain": [
       "VBox()"
      ]
     },
     "metadata": {},
     "output_type": "display_data"
    },
    {
     "data": {
      "application/vnd.jupyter.widget-view+json": {
       "model_id": "",
       "version_major": 2,
       "version_minor": 0
      },
      "text/plain": [
       "FloatProgress(value=0.0, bar_style='info', description='Progress:', layout=Layout(height='25px', width='50%'),…"
      ]
     },
     "metadata": {},
     "output_type": "display_data"
    },
    {
     "name": "stdout",
     "output_type": "stream",
     "text": [
      "Gets Spark Session\n",
      "Additional Parameters: \n",
      "{'spark.sql.autoBroadcastJoinThreshold': '-1', 'spark.executor.memory': '70g', 'spark.driver.memory': '50g', 'spark.memory.offHeap.enabled': 'true', 'spark.memory.offHeap.size': '16g', 'spark.driver.extraJavaOptions': '-Xms20g', 'spark.databricks.delta.schema.autoMerge.enabled': 'true'}\n",
      "pyspark is in /mnt3/yarn/usercache/livy/appcache/application_1748427205490_0003/container_1748427205490_0003_01_000001/pyspark.zip/pyspark/__init__.py"
     ]
    }
   ],
   "source": [
    "# How to run the Bronze Service\n",
    "BronzeService().run()"
   ]
  },
  {
   "cell_type": "code",
   "execution_count": 5,
   "id": "da15e0ab-b602-4775-9b6f-6ea37ce54d0d",
   "metadata": {
    "execution": {
     "iopub.execute_input": "2025-05-28T10:43:07.469038Z",
     "iopub.status.busy": "2025-05-28T10:43:07.468792Z",
     "iopub.status.idle": "2025-05-28T10:43:10.734607Z",
     "shell.execute_reply": "2025-05-28T10:43:10.734005Z",
     "shell.execute_reply.started": "2025-05-28T10:43:07.469016Z"
    },
    "tags": []
   },
   "outputs": [
    {
     "data": {
      "application/vnd.jupyter.widget-view+json": {
       "model_id": "2b6c430f7e5a4a42a4e6f517f85b4fb5",
       "version_major": 2,
       "version_minor": 0
      },
      "text/plain": [
       "VBox()"
      ]
     },
     "metadata": {},
     "output_type": "display_data"
    },
    {
     "data": {
      "application/vnd.jupyter.widget-view+json": {
       "model_id": "",
       "version_major": 2,
       "version_minor": 0
      },
      "text/plain": [
       "FloatProgress(value=0.0, bar_style='info', description='Progress:', layout=Layout(height='25px', width='50%'),…"
      ]
     },
     "metadata": {},
     "output_type": "display_data"
    }
   ],
   "source": [
    "# How to run the Silver Service\n",
    "SilverService().run()"
   ]
  },
  {
   "cell_type": "code",
   "execution_count": 6,
   "id": "dc3dbdea-3fcb-47e5-b7d2-a2c8eec85211",
   "metadata": {
    "execution": {
     "iopub.execute_input": "2025-05-28T10:43:10.735725Z",
     "iopub.status.busy": "2025-05-28T10:43:10.735508Z",
     "iopub.status.idle": "2025-05-28T10:43:16.005053Z",
     "shell.execute_reply": "2025-05-28T10:43:16.004443Z",
     "shell.execute_reply.started": "2025-05-28T10:43:10.735704Z"
    },
    "tags": []
   },
   "outputs": [
    {
     "data": {
      "application/vnd.jupyter.widget-view+json": {
       "model_id": "234eea63cbe84b8aa44d00c3582bbd34",
       "version_major": 2,
       "version_minor": 0
      },
      "text/plain": [
       "VBox()"
      ]
     },
     "metadata": {},
     "output_type": "display_data"
    },
    {
     "data": {
      "application/vnd.jupyter.widget-view+json": {
       "model_id": "",
       "version_major": 2,
       "version_minor": 0
      },
      "text/plain": [
       "FloatProgress(value=0.0, bar_style='info', description='Progress:', layout=Layout(height='25px', width='50%'),…"
      ]
     },
     "metadata": {},
     "output_type": "display_data"
    }
   ],
   "source": [
    "# How to run the Gold Service\n",
    "GoldService().run()"
   ]
  },
  {
   "cell_type": "code",
   "execution_count": 10,
   "id": "f2fa59df-156f-4ff8-b188-56ac7c6a2fb2",
   "metadata": {
    "execution": {
     "iopub.execute_input": "2025-05-28T11:24:37.301550Z",
     "iopub.status.busy": "2025-05-28T11:24:37.301209Z",
     "iopub.status.idle": "2025-05-28T11:24:48.588594Z",
     "shell.execute_reply": "2025-05-28T11:24:48.587854Z",
     "shell.execute_reply.started": "2025-05-28T11:24:37.301525Z"
    },
    "tags": []
   },
   "outputs": [
    {
     "data": {
      "application/vnd.jupyter.widget-view+json": {
       "model_id": "0279118d43e64d3e8ac775d877ee5dbf",
       "version_major": 2,
       "version_minor": 0
      },
      "text/plain": [
       "VBox()"
      ]
     },
     "metadata": {},
     "output_type": "display_data"
    },
    {
     "data": {
      "application/vnd.jupyter.widget-view+json": {
       "model_id": "",
       "version_major": 2,
       "version_minor": 0
      },
      "text/plain": [
       "FloatProgress(value=0.0, bar_style='info', description='Progress:', layout=Layout(height='25px', width='50%'),…"
      ]
     },
     "metadata": {},
     "output_type": "display_data"
    },
    {
     "name": "stdout",
     "output_type": "stream",
     "text": [
      "+--------------------+-----------------------------+------------+--------------------+--------------------+----------+------------+-------------------+-----------+----------------+---------------+----------------+--------------------+-------------------+--------------------+-----------+\n",
      "|                  id|                         name|brewery_type|           address_1|           address_2| address_3|        city|     state_province|postal_code|       longitude|       latitude|           phone|         website_url|              state|              street|    country|\n",
      "+--------------------+-----------------------------+------------+--------------------+--------------------+----------+------------+-------------------+-----------+----------------+---------------+----------------+--------------------+-------------------+--------------------+-----------+\n",
      "|cfa85b4b-30b6-477...| 에잇피플브루어리(Eight Pe...|     brewpub|3, Jaejaegi-ro 19...|           Hwado-eup|      null|Namyangju-si|         Gyeonggido|      12200|     127.3033051|    37.61749196|    031-595-5589|https://www.faceb...|         Gyeonggido|3, Jaejaegi-ro 19...|South Korea|\n",
      "|cfa85b4b-30b6-477...| 에잇피플브루어리(Eight Pe...|     brewpub|3, Jaejaegi-ro 19...|           Hwado-eup|      null|Namyangju-si|         Gyeonggido|      12200|     127.3033051|    37.61749196|    031-595-5589|https://www.faceb...|         Gyeonggido|3, Jaejaegi-ro 19...|South Korea|\n",
      "|94afa064-fd4d-422...|노매딕 브루잉 컴퍼니(Nomad...|     brewpub|12-10, Jeollagamy...|           Wansan-gu|      null|   Jeonju-si|        Jeollabukdo|      55038|     127.1437952|    35.81642148|    063-902-3924|http://instagram....|        Jeollabukdo|12-10, Jeollagamy...|South Korea|\n",
      "|94afa064-fd4d-422...|노매딕 브루잉 컴퍼니(Nomad...|     brewpub|12-10, Jeollagamy...|           Wansan-gu|      null|   Jeonju-si|        Jeollabukdo|      55038|     127.1437952|    35.81642148|    063-902-3924|http://instagram....|        Jeollabukdo|12-10, Jeollagamy...|South Korea|\n",
      "|0afdca59-0ed4-44d...|                 Pato Brewing|       micro|Centro Empresaria...|Av. Pedro Álvares...|   Beloura|      Sintra|             Lisboa|   2710-144|-9.3749116269047|38.759246154526|+351 96 280 0847|http://www.patobr...|             Lisboa|Centro Empresaria...|   Portugal|\n",
      "|0afdca59-0ed4-44d...|                 Pato Brewing|       micro|Centro Empresaria...|Av. Pedro Álvares...|   Beloura|      Sintra|             Lisboa|   2710-144|-9.3749116269047|38.759246154526|+351 96 280 0847|http://www.patobr...|             Lisboa|Centro Empresaria...|   Portugal|\n",
      "|4d29ef0e-2d79-4ad...|         Carlingford Brewi...|       micro|The Old Mill, , R...|        Dundalk Road|Riverstown| Carlingford|              Louth|   A91 D850|      -6.2239907|      53.994002|    353429397519|http://carlingfor...|              Louth|The Old Mill, , R...|    Ireland|\n",
      "|4d29ef0e-2d79-4ad...|         Carlingford Brewi...|       micro|The Old Mill, , R...|        Dundalk Road|Riverstown| Carlingford|              Louth|   A91 D850|      -6.2239907|      53.994002|    353429397519|http://carlingfor...|              Louth|The Old Mill, , R...|    Ireland|\n",
      "|2068d17b-bcaa-442...|강릉브루어리 바이 현 (Gang...|     brewpub|9,Yulgokchogyo-gi...|                null|      null|Gangneung-si|          Gangwondo|      25510|     128.8797275|    37.76757831|    033-655-1357|http://instagram....|          Gangwondo|9,Yulgokchogyo-gi...|South Korea|\n",
      "|2068d17b-bcaa-442...|강릉브루어리 바이 현 (Gang...|     brewpub|9,Yulgokchogyo-gi...|                null|      null|Gangneung-si|          Gangwondo|      25510|     128.8797275|    37.76757831|    033-655-1357|http://instagram....|          Gangwondo|9,Yulgokchogyo-gi...|South Korea|\n",
      "|99fdc1ac-a3ae-475...|   안동브루어리(Andong Bre...|       micro| 98, Goejeong 2-gil,|         Pungsan-eup|      null|   Andong-si|    Gyeongsangbukdo|      36619|     128.5337984|    36.60338246|    054-852-9602|https://www.insta...|    Gyeongsangbukdo| 98, Goejeong 2-gil,|South Korea|\n",
      "|99fdc1ac-a3ae-475...|   안동브루어리(Andong Bre...|       micro| 98, Goejeong 2-gil,|         Pungsan-eup|      null|   Andong-si|    Gyeongsangbukdo|      36619|     128.5337984|    36.60338246|    054-852-9602|https://www.insta...|    Gyeongsangbukdo| 98, Goejeong 2-gil,|South Korea|\n",
      "|37ce8020-c9d0-421...| 바네하임 브루어리(Vanehei...|       micro|65-1, Naegak 1-ro...|         Jinjeop-eup|      null|Namyangju-si|         Gyeonggido|      12071|     127.1616309|    37.70915976|    031-529-8003|http://vaneheimbe...|         Gyeonggido|65-1, Naegak 1-ro...|South Korea|\n",
      "|37ce8020-c9d0-421...| 바네하임 브루어리(Vanehei...|       micro|65-1, Naegak 1-ro...|         Jinjeop-eup|      null|Namyangju-si|         Gyeonggido|      12071|     127.1616309|    37.70915976|    031-529-8003|http://vaneheimbe...|         Gyeonggido|65-1, Naegak 1-ro...|South Korea|\n",
      "|faefcbd2-3178-44c...|   칠홉스 브루잉(Chillhops...|       micro| 148-3, Dongseo 1-ro|                null|      null|   Seosan-si|   Chungcheongnamdo|      31999|     126.4545751|    36.76696044|   010-3022-4997|https://www.insta...|   Chungcheongnamdo| 148-3, Dongseo 1-ro|South Korea|\n",
      "|faefcbd2-3178-44c...|   칠홉스 브루잉(Chillhops...|       micro| 148-3, Dongseo 1-ro|                null|      null|   Seosan-si|   Chungcheongnamdo|      31999|     126.4545751|    36.76696044|   010-3022-4997|https://www.insta...|   Chungcheongnamdo| 148-3, Dongseo 1-ro|South Korea|\n",
      "|32a97b7b-726c-41a...|   와일드 웨이브(Wild Wave...|     brewpub|106-1, Songjeongj...|                null|      null| Haeundae-gu|              Busan|      48071|     129.2035339|    35.18781109|    051-702-0838|https://www.wildw...|              Busan|106-1, Songjeongj...|South Korea|\n",
      "|32a97b7b-726c-41a...|   와일드 웨이브(Wild Wave...|     brewpub|106-1, Songjeongj...|                null|      null| Haeundae-gu|              Busan|      48071|     129.2035339|    35.18781109|    051-702-0838|https://www.wildw...|              Busan|106-1, Songjeongj...|South Korea|\n",
      "|04e9e7ce-5f20-486...|          Loch Lomond Brewery|       micro|     Block 2 Unit 11|Vale of Leven Ind...|      null|   Dumbarton|West Dunbartonshire|    G82 3PD|       -4.576255|      55.969774|      1389755698|https://www.lochl...|West Dunbartonshire|     Block 2 Unit 11|   Scotland|\n",
      "|04e9e7ce-5f20-486...|          Loch Lomond Brewery|       micro|     Block 2 Unit 11|Vale of Leven Ind...|      null|   Dumbarton|West Dunbartonshire|    G82 3PD|       -4.576255|      55.969774|      1389755698|https://www.lochl...|West Dunbartonshire|     Block 2 Unit 11|   Scotland|\n",
      "+--------------------+-----------------------------+------------+--------------------+--------------------+----------+------------+-------------------+-----------+----------------+---------------+----------------+--------------------+-------------------+--------------------+-----------+\n",
      "only showing top 20 rows"
     ]
    }
   ],
   "source": [
    "# Reading Bronze data from Medallion architecture\n",
    "Bronze().read_parquet(spark).show()"
   ]
  },
  {
   "cell_type": "code",
   "execution_count": 11,
   "id": "03df32c2-1ccf-4462-842b-d2c0a58b5121",
   "metadata": {
    "execution": {
     "iopub.execute_input": "2025-05-28T11:25:32.768029Z",
     "iopub.status.busy": "2025-05-28T11:25:32.767688Z",
     "iopub.status.idle": "2025-05-28T11:25:33.516949Z",
     "shell.execute_reply": "2025-05-28T11:25:33.516133Z",
     "shell.execute_reply.started": "2025-05-28T11:25:32.768004Z"
    },
    "tags": []
   },
   "outputs": [
    {
     "data": {
      "application/vnd.jupyter.widget-view+json": {
       "model_id": "fcd50528968c43dd9fb3f0e943cb6f36",
       "version_major": 2,
       "version_minor": 0
      },
      "text/plain": [
       "VBox()"
      ]
     },
     "metadata": {},
     "output_type": "display_data"
    },
    {
     "data": {
      "application/vnd.jupyter.widget-view+json": {
       "model_id": "",
       "version_major": 2,
       "version_minor": 0
      },
      "text/plain": [
       "FloatProgress(value=0.0, bar_style='info', description='Progress:', layout=Layout(height='25px', width='50%'),…"
      ]
     },
     "metadata": {},
     "output_type": "display_data"
    },
    {
     "name": "stdout",
     "output_type": "stream",
     "text": [
      "+--------------------+-----------------------------+------------+--------------------+--------------------+----------+------------+----------------+-----------+----------------+---------------+----------------+--------------------+----------------+--------------------+-----------+\n",
      "|                  id|                         name|brewery_type|           address_1|           address_2| address_3|        city|  state_province|postal_code|       longitude|       latitude|           phone|         website_url|           state|              street|    country|\n",
      "+--------------------+-----------------------------+------------+--------------------+--------------------+----------+------------+----------------+-----------+----------------+---------------+----------------+--------------------+----------------+--------------------+-----------+\n",
      "|cfa85b4b-30b6-477...| 에잇피플브루어리(Eight Pe...|     brewpub|3, Jaejaegi-ro 19...|           Hwado-eup|       N/A|Namyangju-si|      Gyeonggido|      12200|     127.3033051|    37.61749196|    031-595-5589|https://www.faceb...|      Gyeonggido|3, Jaejaegi-ro 19...|South Korea|\n",
      "|cfa85b4b-30b6-477...| 에잇피플브루어리(Eight Pe...|     brewpub|3, Jaejaegi-ro 19...|           Hwado-eup|       N/A|Namyangju-si|      Gyeonggido|      12200|     127.3033051|    37.61749196|    031-595-5589|https://www.faceb...|      Gyeonggido|3, Jaejaegi-ro 19...|South Korea|\n",
      "|cfa85b4b-30b6-477...| 에잇피플브루어리(Eight Pe...|     brewpub|3, Jaejaegi-ro 19...|           Hwado-eup|       N/A|Namyangju-si|      Gyeonggido|      12200|     127.3033051|    37.61749196|    031-595-5589|https://www.faceb...|      Gyeonggido|3, Jaejaegi-ro 19...|South Korea|\n",
      "|94afa064-fd4d-422...|노매딕 브루잉 컴퍼니(Nomad...|     brewpub|12-10, Jeollagamy...|           Wansan-gu|       N/A|   Jeonju-si|     Jeollabukdo|      55038|     127.1437952|    35.81642148|    063-902-3924|http://instagram....|     Jeollabukdo|12-10, Jeollagamy...|South Korea|\n",
      "|94afa064-fd4d-422...|노매딕 브루잉 컴퍼니(Nomad...|     brewpub|12-10, Jeollagamy...|           Wansan-gu|       N/A|   Jeonju-si|     Jeollabukdo|      55038|     127.1437952|    35.81642148|    063-902-3924|http://instagram....|     Jeollabukdo|12-10, Jeollagamy...|South Korea|\n",
      "|94afa064-fd4d-422...|노매딕 브루잉 컴퍼니(Nomad...|     brewpub|12-10, Jeollagamy...|           Wansan-gu|       N/A|   Jeonju-si|     Jeollabukdo|      55038|     127.1437952|    35.81642148|    063-902-3924|http://instagram....|     Jeollabukdo|12-10, Jeollagamy...|South Korea|\n",
      "|2068d17b-bcaa-442...|강릉브루어리 바이 현 (Gang...|     brewpub|9,Yulgokchogyo-gi...|                 N/A|       N/A|Gangneung-si|       Gangwondo|      25510|     128.8797275|    37.76757831|    033-655-1357|http://instagram....|       Gangwondo|9,Yulgokchogyo-gi...|South Korea|\n",
      "|2068d17b-bcaa-442...|강릉브루어리 바이 현 (Gang...|     brewpub|9,Yulgokchogyo-gi...|                 N/A|       N/A|Gangneung-si|       Gangwondo|      25510|     128.8797275|    37.76757831|    033-655-1357|http://instagram....|       Gangwondo|9,Yulgokchogyo-gi...|South Korea|\n",
      "|2068d17b-bcaa-442...|강릉브루어리 바이 현 (Gang...|     brewpub|9,Yulgokchogyo-gi...|                 N/A|       N/A|Gangneung-si|       Gangwondo|      25510|     128.8797275|    37.76757831|    033-655-1357|http://instagram....|       Gangwondo|9,Yulgokchogyo-gi...|South Korea|\n",
      "|0afdca59-0ed4-44d...|                 Pato Brewing|       micro|Centro Empresaria...|Av. Pedro Álvares...|   Beloura|      Sintra|          Lisboa|   2710-144|-9.3749116269047|38.759246154526|+351 96 280 0847|http://www.patobr...|          Lisboa|Centro Empresaria...|   Portugal|\n",
      "|0afdca59-0ed4-44d...|                 Pato Brewing|       micro|Centro Empresaria...|Av. Pedro Álvares...|   Beloura|      Sintra|          Lisboa|   2710-144|-9.3749116269047|38.759246154526|+351 96 280 0847|http://www.patobr...|          Lisboa|Centro Empresaria...|   Portugal|\n",
      "|0afdca59-0ed4-44d...|                 Pato Brewing|       micro|Centro Empresaria...|Av. Pedro Álvares...|   Beloura|      Sintra|          Lisboa|   2710-144|-9.3749116269047|38.759246154526|+351 96 280 0847|http://www.patobr...|          Lisboa|Centro Empresaria...|   Portugal|\n",
      "|4d29ef0e-2d79-4ad...|         Carlingford Brewi...|       micro|The Old Mill, , R...|        Dundalk Road|Riverstown| Carlingford|           Louth|   A91 D850|      -6.2239907|      53.994002|    353429397519|http://carlingfor...|           Louth|The Old Mill, , R...|    Ireland|\n",
      "|4d29ef0e-2d79-4ad...|         Carlingford Brewi...|       micro|The Old Mill, , R...|        Dundalk Road|Riverstown| Carlingford|           Louth|   A91 D850|      -6.2239907|      53.994002|    353429397519|http://carlingfor...|           Louth|The Old Mill, , R...|    Ireland|\n",
      "|4d29ef0e-2d79-4ad...|         Carlingford Brewi...|       micro|The Old Mill, , R...|        Dundalk Road|Riverstown| Carlingford|           Louth|   A91 D850|      -6.2239907|      53.994002|    353429397519|http://carlingfor...|           Louth|The Old Mill, , R...|    Ireland|\n",
      "|faefcbd2-3178-44c...|   칠홉스 브루잉(Chillhops...|       micro| 148-3, Dongseo 1-ro|                 N/A|       N/A|   Seosan-si|Chungcheongnamdo|      31999|     126.4545751|    36.76696044|   010-3022-4997|https://www.insta...|Chungcheongnamdo| 148-3, Dongseo 1-ro|South Korea|\n",
      "|faefcbd2-3178-44c...|   칠홉스 브루잉(Chillhops...|       micro| 148-3, Dongseo 1-ro|                 N/A|       N/A|   Seosan-si|Chungcheongnamdo|      31999|     126.4545751|    36.76696044|   010-3022-4997|https://www.insta...|Chungcheongnamdo| 148-3, Dongseo 1-ro|South Korea|\n",
      "|faefcbd2-3178-44c...|   칠홉스 브루잉(Chillhops...|       micro| 148-3, Dongseo 1-ro|                 N/A|       N/A|   Seosan-si|Chungcheongnamdo|      31999|     126.4545751|    36.76696044|   010-3022-4997|https://www.insta...|Chungcheongnamdo| 148-3, Dongseo 1-ro|South Korea|\n",
      "|32a97b7b-726c-41a...|   와일드 웨이브(Wild Wave...|     brewpub|106-1, Songjeongj...|                 N/A|       N/A| Haeundae-gu|           Busan|      48071|     129.2035339|    35.18781109|    051-702-0838|https://www.wildw...|           Busan|106-1, Songjeongj...|South Korea|\n",
      "|32a97b7b-726c-41a...|   와일드 웨이브(Wild Wave...|     brewpub|106-1, Songjeongj...|                 N/A|       N/A| Haeundae-gu|           Busan|      48071|     129.2035339|    35.18781109|    051-702-0838|https://www.wildw...|           Busan|106-1, Songjeongj...|South Korea|\n",
      "+--------------------+-----------------------------+------------+--------------------+--------------------+----------+------------+----------------+-----------+----------------+---------------+----------------+--------------------+----------------+--------------------+-----------+\n",
      "only showing top 20 rows"
     ]
    }
   ],
   "source": [
    "# Reading Silver data from Medallion architecture\n",
    "Silver().read_parquet(spark).show()"
   ]
  },
  {
   "cell_type": "code",
   "execution_count": 13,
   "id": "ab13a017-192c-4533-913a-7f95a2cf232c",
   "metadata": {
    "execution": {
     "iopub.execute_input": "2025-05-28T11:26:33.270029Z",
     "iopub.status.busy": "2025-05-28T11:26:33.269699Z",
     "iopub.status.idle": "2025-05-28T11:26:34.016358Z",
     "shell.execute_reply": "2025-05-28T11:26:34.015732Z",
     "shell.execute_reply.started": "2025-05-28T11:26:33.270004Z"
    },
    "tags": []
   },
   "outputs": [
    {
     "data": {
      "application/vnd.jupyter.widget-view+json": {
       "model_id": "f3e58ca12ae94166806bec3dcb8dfce3",
       "version_major": 2,
       "version_minor": 0
      },
      "text/plain": [
       "VBox()"
      ]
     },
     "metadata": {},
     "output_type": "display_data"
    },
    {
     "data": {
      "application/vnd.jupyter.widget-view+json": {
       "model_id": "",
       "version_major": 2,
       "version_minor": 0
      },
      "text/plain": [
       "FloatProgress(value=0.0, bar_style='info', description='Progress:', layout=Layout(height='25px', width='50%'),…"
      ]
     },
     "metadata": {},
     "output_type": "display_data"
    },
    {
     "name": "stdout",
     "output_type": "stream",
     "text": [
      "+-----+------------+\n",
      "|count|brewery_type|\n",
      "+-----+------------+\n",
      "|    6|        nano|\n",
      "|    3|    contract|\n",
      "|    9|      closed|\n",
      "|    3|  proprietor|\n",
      "|   27|     taproom|\n",
      "|  435|       micro|\n",
      "|   63|       large|\n",
      "|   21|    regional|\n",
      "|   90|         bar|\n",
      "|  273|     brewpub|\n",
      "+-----+------------+"
     ]
    }
   ],
   "source": [
    "# Reading Gold data from Medallion architecture\n",
    "(Gold() / \"agg_by_brewery_type\").read_parquet(spark).show()"
   ]
  },
  {
   "cell_type": "code",
   "execution_count": 15,
   "id": "8332958d-3d1b-4694-919d-ad7d3b1cb1d1",
   "metadata": {
    "execution": {
     "iopub.execute_input": "2025-05-28T11:27:00.072275Z",
     "iopub.status.busy": "2025-05-28T11:27:00.071949Z",
     "iopub.status.idle": "2025-05-28T11:27:00.819123Z",
     "shell.execute_reply": "2025-05-28T11:27:00.818529Z",
     "shell.execute_reply.started": "2025-05-28T11:27:00.072250Z"
    },
    "tags": []
   },
   "outputs": [
    {
     "data": {
      "application/vnd.jupyter.widget-view+json": {
       "model_id": "77f41db201bf42829d21d9b7080bef21",
       "version_major": 2,
       "version_minor": 0
      },
      "text/plain": [
       "VBox()"
      ]
     },
     "metadata": {},
     "output_type": "display_data"
    },
    {
     "data": {
      "application/vnd.jupyter.widget-view+json": {
       "model_id": "",
       "version_major": 2,
       "version_minor": 0
      },
      "text/plain": [
       "FloatProgress(value=0.0, bar_style='info', description='Progress:', layout=Layout(height='25px', width='50%'),…"
      ]
     },
     "metadata": {},
     "output_type": "display_data"
    },
    {
     "name": "stdout",
     "output_type": "stream",
     "text": [
      "+-----+-------------+\n",
      "|count|      country|\n",
      "+-----+-------------+\n",
      "|  102|       Poland|\n",
      "|    6|  Isle of Man|\n",
      "|    9|       France|\n",
      "|    3|       France|\n",
      "|    3|       France|\n",
      "|  150|      Ireland|\n",
      "|   50|      Ireland|\n",
      "|   50|      Ireland|\n",
      "|   99|    Singapore|\n",
      "|   33|    Singapore|\n",
      "|   33|    Singapore|\n",
      "|   30|     Scotland|\n",
      "|   10|     Scotland|\n",
      "|   10|     Scotland|\n",
      "|  150|United States|\n",
      "|   50|United States|\n",
      "|   50|United States|\n",
      "|  150|      England|\n",
      "|   50|      England|\n",
      "|   50|      England|\n",
      "+-----+-------------+\n",
      "only showing top 20 rows"
     ]
    }
   ],
   "source": [
    "# Reading Gold data from Medallion architecture\n",
    "(Gold() / \"agg_by_country\").read_parquet(spark).show()"
   ]
  },
  {
   "cell_type": "code",
   "execution_count": 9,
   "id": "5a4cfbaf-a15c-4f17-9ba9-730296d2ffe9",
   "metadata": {
    "execution": {
     "iopub.execute_input": "2025-05-28T11:13:46.018004Z",
     "iopub.status.busy": "2025-05-28T11:13:46.017657Z",
     "iopub.status.idle": "2025-05-28T11:13:57.303374Z",
     "shell.execute_reply": "2025-05-28T11:13:57.302635Z",
     "shell.execute_reply.started": "2025-05-28T11:13:46.017980Z"
    },
    "tags": []
   },
   "outputs": [
    {
     "data": {
      "application/vnd.jupyter.widget-view+json": {
       "model_id": "1530002d78c24564a1e5d5d28afa5b24",
       "version_major": 2,
       "version_minor": 0
      },
      "text/plain": [
       "VBox()"
      ]
     },
     "metadata": {},
     "output_type": "display_data"
    },
    {
     "data": {
      "application/vnd.jupyter.widget-view+json": {
       "model_id": "",
       "version_major": 2,
       "version_minor": 0
      },
      "text/plain": [
       "FloatProgress(value=0.0, bar_style='info', description='Progress:', layout=Layout(height='25px', width='50%'),…"
      ]
     },
     "metadata": {},
     "output_type": "display_data"
    },
    {
     "name": "stdout",
     "output_type": "stream",
     "text": [
      "+-----+------------+\n",
      "|count|brewery_type|\n",
      "+-----+------------+\n",
      "|    6|        nano|\n",
      "|    3|    contract|\n",
      "|    9|      closed|\n",
      "|    3|  proprietor|\n",
      "|   27|     taproom|\n",
      "|  435|       micro|\n",
      "|   63|       large|\n",
      "|   21|    regional|\n",
      "|   90|         bar|\n",
      "|  273|     brewpub|\n",
      "+-----+------------+"
     ]
    }
   ],
   "source": [
    "# Testing the temp view created\n",
    "spark.sql(\"select * from breweries_per_type\").show()"
   ]
  },
  {
   "cell_type": "code",
   "execution_count": null,
   "id": "41dfa130-e075-4bf3-902d-db4073b872fa",
   "metadata": {},
   "outputs": [],
   "source": []
  },
  {
   "cell_type": "code",
   "execution_count": null,
   "id": "bbe85f45-4d89-449d-a84c-125f46222361",
   "metadata": {},
   "outputs": [],
   "source": []
  },
  {
   "cell_type": "code",
   "execution_count": null,
   "id": "6ef30bb2-25fb-4e12-84b2-59fcf8786a44",
   "metadata": {},
   "outputs": [],
   "source": []
  }
 ],
 "metadata": {
  "kernelspec": {
   "display_name": "PySpark",
   "language": "python",
   "name": "pysparkkernel"
  },
  "language_info": {
   "codemirror_mode": {
    "name": "python",
    "version": 3
   },
   "file_extension": ".py",
   "mimetype": "text/x-python",
   "name": "pyspark",
   "pygments_lexer": "python3"
  }
 },
 "nbformat": 4,
 "nbformat_minor": 5
}
